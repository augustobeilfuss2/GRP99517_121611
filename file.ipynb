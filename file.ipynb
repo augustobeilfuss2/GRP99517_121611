{
 "cells": [
  {
   "cell_type": "code",
   "execution_count": 1,
   "metadata": {},
   "outputs": [
    {
     "name": "stdout",
     "output_type": "stream",
     "text": [
      "augusto,  augusto2,  augustodnv,  augusto3\n"
     ]
    }
   ],
   "source": [
    "import csv\n",
    "with open('arquivo.csv', 'r') as arquivocsv:\n",
    "    arquivo = csv.reader(arquivocsv, delimiter=',')\n",
    "    for row in arquivo:\n",
    "        print(', '.join(row))"
   ]
  }
 ],
 "metadata": {
  "kernelspec": {
   "display_name": "Python 3",
   "language": "python",
   "name": "python3"
  },
  "language_info": {
   "codemirror_mode": {
    "name": "ipython",
    "version": 3
   },
   "file_extension": ".py",
   "mimetype": "text/x-python",
   "name": "python",
   "nbconvert_exporter": "python",
   "pygments_lexer": "ipython3",
   "version": "3.12.4"
  }
 },
 "nbformat": 4,
 "nbformat_minor": 2
}
